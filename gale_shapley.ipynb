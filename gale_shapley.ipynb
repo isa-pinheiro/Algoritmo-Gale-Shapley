{
 "cells": [
  {
   "cell_type": "markdown",
   "metadata": {},
   "source": [
    "### Algoritmo de Gale-Shapley"
   ]
  },
  {
   "cell_type": "code",
   "execution_count": 2,
   "metadata": {},
   "outputs": [],
   "source": [
    "def gale_shapley(men_preferences, women_preferences, n):\n",
    "    single_men = list(range(n)) # Lista de homens solteiros\n",
    "    married_man = [None] * n    # Maridos (ainda indefinidos)\n",
    "    married_woman = [None] * n  # Esposas (ainda indefinidas)\n",
    "    next_man_choice = [0] * n   # Próxima escolha dos homens\n",
    "\n",
    "    while single_men:\n",
    "        man = single_men[0]\n",
    "        woman = men_preferences[man][next_man_choice[man]]\n",
    "        current_husband = married_woman[woman]\n",
    "\n",
    "        if current_husband is None: # A mulher está solteira\n",
    "            married_man[man] = woman\n",
    "            married_woman[woman] = man\n",
    "            single_men.pop(0)   # Homem sai da lista de solteiros\n",
    "\n",
    "        else:\n",
    "            # Se a mulher prefere o novo homem\n",
    "            if women_preferences[woman].index(man) < women_preferences[woman].index(current_husband):\n",
    "                married_man[current_husband] = None  # Atual marido volta a ser solteiro\n",
    "                single_men.append(current_husband)\n",
    "                married_man[man] = woman\n",
    "                married_woman[woman] = man\n",
    "                single_men.pop(0)  # Novo homem sai da lista de solteiros\n",
    "\n",
    "        next_man_choice[man] += 1     # Próxima mulher da lista do homem\n",
    "\n",
    "    return married_man"
   ]
  },
  {
   "cell_type": "markdown",
   "metadata": {},
   "source": [
    "### Exemplo de uso"
   ]
  },
  {
   "cell_type": "code",
   "execution_count": 3,
   "metadata": {},
   "outputs": [
    {
     "name": "stdout",
     "output_type": "stream",
     "text": [
      "O homem 0 está com a mulher 1\n",
      "O homem 1 está com a mulher 0\n",
      "O homem 2 está com a mulher 4\n",
      "O homem 3 está com a mulher 5\n",
      "O homem 4 está com a mulher 2\n",
      "O homem 5 está com a mulher 3\n"
     ]
    }
   ],
   "source": [
    "men_preferences = [\n",
    "    [1, 2, 0, 5, 3, 4],\n",
    "    [1, 0, 2, 4, 3, 5],\n",
    "    [4, 0, 5, 2, 1, 3],\n",
    "    [5, 3, 4, 0, 2, 1],\n",
    "    [2, 1, 4, 0, 3, 5],\n",
    "    [0, 5, 3, 2, 1, 4],\n",
    "]\n",
    "\n",
    "women_preferences = [\n",
    "    [2, 1, 0, 3, 5, 4],\n",
    "    [0, 5, 2, 4, 1, 3],\n",
    "    [1, 4, 3, 2, 0, 5],\n",
    "    [3, 0, 2, 1, 4, 5],\n",
    "    [4, 2, 1, 3, 0, 5],\n",
    "    [0, 3, 2, 5, 1, 4],\n",
    "]\n",
    "\n",
    "n = 6\n",
    "married_man = gale_shapley(men_preferences, women_preferences, n)\n",
    "for man, woman in enumerate(married_man):\n",
    "    print(f'Homem {man} -> Mulher {woman}')"
   ]
  }
 ],
 "metadata": {
  "kernelspec": {
   "display_name": "Python 3",
   "language": "python",
   "name": "python3"
  },
  "language_info": {
   "codemirror_mode": {
    "name": "ipython",
    "version": 3
   },
   "file_extension": ".py",
   "mimetype": "text/x-python",
   "name": "python",
   "nbconvert_exporter": "python",
   "pygments_lexer": "ipython3",
   "version": "3.11.3"
  }
 },
 "nbformat": 4,
 "nbformat_minor": 2
}
