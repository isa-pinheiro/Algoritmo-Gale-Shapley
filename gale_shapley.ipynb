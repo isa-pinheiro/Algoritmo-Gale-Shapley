{
 "cells": [
  {
   "cell_type": "markdown",
   "metadata": {},
   "source": [
    "### Algoritmo de Gale-Shapley"
   ]
  },
  {
   "cell_type": "code",
   "execution_count": 1,
   "metadata": {},
   "outputs": [],
   "source": [
    "def gale_shapley(menPreferences, womenPreferences, n):\n",
    "    unmarriedMan = list(range(n)) # Lista de homens solteiros\n",
    "    manSpouse = [None] * n    # Maridos (ainda indefinidos)\n",
    "    womanSpouse = [None] * n  # Esposas (ainda indefinidas)\n",
    "    nextManChoice = [0] * n   # Próxima escolha dos homens\n",
    "\n",
    "    while unmarriedMan:\n",
    "        man = unmarriedMan[0]\n",
    "        woman = menPreferences[man][nextManChoice[man]]\n",
    "        currentHusband = womanSpouse[woman]\n",
    "\n",
    "        if currentHusband is None: # A mulher está solteira\n",
    "            manSpouse[man] = woman\n",
    "            womanSpouse[woman] = man\n",
    "            unmarriedMan.pop(0)   # Homem sai da lista de solteiros\n",
    "\n",
    "        else:\n",
    "            # Se a mulher prefere o novo homem\n",
    "            if womenPreferences[woman].index(man) < womenPreferences[woman].index(currentHusband):\n",
    "                manSpouse[currentHusband] = None  # Atual marido volta a ser solteiro\n",
    "                unmarriedMan.append(currentHusband)\n",
    "                manSpouse[man] = woman\n",
    "                womanSpouse[woman] = man\n",
    "                unmarriedMan.pop(0)  # Novo homem sai da lista de solteiros\n",
    "\n",
    "        nextManChoice[man] += 1     # Próxima mulher da lista do homem\n",
    "\n",
    "    return manSpouse"
   ]
  },
  {
   "cell_type": "markdown",
   "metadata": {},
   "source": [
    "### Exemplo de uso"
   ]
  },
  {
   "cell_type": "code",
   "execution_count": 2,
   "metadata": {},
   "outputs": [
    {
     "name": "stdout",
     "output_type": "stream",
     "text": [
      "Homem 0 -> Mulher 1\n",
      "Homem 1 -> Mulher 0\n",
      "Homem 2 -> Mulher 4\n",
      "Homem 3 -> Mulher 5\n",
      "Homem 4 -> Mulher 2\n",
      "Homem 5 -> Mulher 3\n"
     ]
    }
   ],
   "source": [
    "menPreferences = [\n",
    "    [1, 2, 0, 5, 3, 4],\n",
    "    [1, 0, 2, 4, 3, 5],\n",
    "    [4, 0, 5, 2, 1, 3],\n",
    "    [5, 3, 4, 0, 2, 1],\n",
    "    [2, 1, 4, 0, 3, 5],\n",
    "    [0, 5, 3, 2, 1, 4],\n",
    "]\n",
    "\n",
    "womenPreferences = [\n",
    "    [2, 1, 0, 3, 5, 4],\n",
    "    [0, 5, 2, 4, 1, 3],\n",
    "    [1, 4, 3, 2, 0, 5],\n",
    "    [3, 0, 2, 1, 4, 5],\n",
    "    [4, 2, 1, 3, 0, 5],\n",
    "    [0, 3, 2, 5, 1, 4],\n",
    "]\n",
    "\n",
    "n = 6\n",
    "manSpouse = gale_shapley(menPreferences, womenPreferences, n)\n",
    "for man, woman in enumerate(manSpouse):\n",
    "    print(f'Homem {man} -> Mulher {woman}')"
   ]
  }
 ],
 "metadata": {
  "kernelspec": {
   "display_name": "Python 3",
   "language": "python",
   "name": "python3"
  },
  "language_info": {
   "codemirror_mode": {
    "name": "ipython",
    "version": 3
   },
   "file_extension": ".py",
   "mimetype": "text/x-python",
   "name": "python",
   "nbconvert_exporter": "python",
   "pygments_lexer": "ipython3",
   "version": "3.11.3"
  }
 },
 "nbformat": 4,
 "nbformat_minor": 2
}
